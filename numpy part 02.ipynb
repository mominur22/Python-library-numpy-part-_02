{
 "cells": [
  {
   "cell_type": "markdown",
   "id": "efd4aaae",
   "metadata": {},
   "source": [
    "# Array creation"
   ]
  },
  {
   "cell_type": "code",
   "execution_count": 29,
   "id": "b6f3c883",
   "metadata": {},
   "outputs": [],
   "source": [
    "import numpy as np"
   ]
  },
  {
   "cell_type": "code",
   "execution_count": 30,
   "id": "af9b35eb",
   "metadata": {},
   "outputs": [],
   "source": [
    "array1=np.array([1,2,3],dtype='int')"
   ]
  },
  {
   "cell_type": "code",
   "execution_count": 31,
   "id": "87418c25",
   "metadata": {},
   "outputs": [
    {
     "data": {
      "text/plain": [
       "array([1, 2, 3])"
      ]
     },
     "execution_count": 31,
     "metadata": {},
     "output_type": "execute_result"
    }
   ],
   "source": [
    "array1"
   ]
  },
  {
   "cell_type": "code",
   "execution_count": 32,
   "id": "26725934",
   "metadata": {},
   "outputs": [],
   "source": [
    "zeros=np.zeros((3,3),dtype='int')"
   ]
  },
  {
   "cell_type": "code",
   "execution_count": 33,
   "id": "72f6175a",
   "metadata": {},
   "outputs": [
    {
     "data": {
      "text/plain": [
       "array([[0, 0, 0],\n",
       "       [0, 0, 0],\n",
       "       [0, 0, 0]])"
      ]
     },
     "execution_count": 33,
     "metadata": {},
     "output_type": "execute_result"
    }
   ],
   "source": [
    "zeros"
   ]
  },
  {
   "cell_type": "code",
   "execution_count": 34,
   "id": "6080750c",
   "metadata": {},
   "outputs": [],
   "source": [
    "ones=np.ones((3,3),dtype='int')"
   ]
  },
  {
   "cell_type": "code",
   "execution_count": 35,
   "id": "c49b5470",
   "metadata": {},
   "outputs": [
    {
     "data": {
      "text/plain": [
       "array([[1, 1, 1],\n",
       "       [1, 1, 1],\n",
       "       [1, 1, 1]])"
      ]
     },
     "execution_count": 35,
     "metadata": {},
     "output_type": "execute_result"
    }
   ],
   "source": [
    "ones"
   ]
  },
  {
   "cell_type": "code",
   "execution_count": 36,
   "id": "7c96b145",
   "metadata": {},
   "outputs": [],
   "source": [
    "full=np.full((2,3),5)"
   ]
  },
  {
   "cell_type": "code",
   "execution_count": 37,
   "id": "d39570ac",
   "metadata": {},
   "outputs": [
    {
     "data": {
      "text/plain": [
       "array([[5, 5, 5],\n",
       "       [5, 5, 5]])"
      ]
     },
     "execution_count": 37,
     "metadata": {},
     "output_type": "execute_result"
    }
   ],
   "source": [
    "full"
   ]
  },
  {
   "cell_type": "code",
   "execution_count": 43,
   "id": "ce838660",
   "metadata": {},
   "outputs": [],
   "source": [
    "identity= np.identity(3,dtype='int')"
   ]
  },
  {
   "cell_type": "code",
   "execution_count": 44,
   "id": "b090d02f",
   "metadata": {},
   "outputs": [
    {
     "data": {
      "text/plain": [
       "array([[1, 0, 0],\n",
       "       [0, 1, 0],\n",
       "       [0, 0, 1]])"
      ]
     },
     "execution_count": 44,
     "metadata": {},
     "output_type": "execute_result"
    }
   ],
   "source": [
    "identity"
   ]
  },
  {
   "cell_type": "code",
   "execution_count": 50,
   "id": "89042e5c",
   "metadata": {},
   "outputs": [],
   "source": [
    "eye=np.eye(3,3,-1)"
   ]
  },
  {
   "cell_type": "code",
   "execution_count": 51,
   "id": "ad6968a2",
   "metadata": {},
   "outputs": [
    {
     "data": {
      "text/plain": [
       "array([[0., 0., 0.],\n",
       "       [1., 0., 0.],\n",
       "       [0., 1., 0.]])"
      ]
     },
     "execution_count": 51,
     "metadata": {},
     "output_type": "execute_result"
    }
   ],
   "source": [
    "eye"
   ]
  },
  {
   "cell_type": "markdown",
   "id": "eff63d70",
   "metadata": {},
   "source": [
    "Arang function"
   ]
  },
  {
   "cell_type": "code",
   "execution_count": 52,
   "id": "186f134d",
   "metadata": {},
   "outputs": [],
   "source": [
    "arange=np.arange(1,10,2)"
   ]
  },
  {
   "cell_type": "code",
   "execution_count": 53,
   "id": "c6fdafef",
   "metadata": {},
   "outputs": [
    {
     "data": {
      "text/plain": [
       "array([1, 3, 5, 7, 9])"
      ]
     },
     "execution_count": 53,
     "metadata": {},
     "output_type": "execute_result"
    }
   ],
   "source": [
    "arange\n"
   ]
  },
  {
   "cell_type": "code",
   "execution_count": 54,
   "id": "0b2203b8",
   "metadata": {},
   "outputs": [],
   "source": [
    "linspace=np.linspace(1,5,10)\n"
   ]
  },
  {
   "cell_type": "code",
   "execution_count": 56,
   "id": "98e4104c",
   "metadata": {},
   "outputs": [
    {
     "data": {
      "text/plain": [
       "array([1.        , 1.44444444, 1.88888889, 2.33333333, 2.77777778,\n",
       "       3.22222222, 3.66666667, 4.11111111, 4.55555556, 5.        ])"
      ]
     },
     "execution_count": 56,
     "metadata": {},
     "output_type": "execute_result"
    }
   ],
   "source": [
    "linspace"
   ]
  },
  {
   "cell_type": "code",
   "execution_count": 57,
   "id": "7b488cbe",
   "metadata": {},
   "outputs": [
    {
     "data": {
      "text/plain": [
       "10"
      ]
     },
     "execution_count": 57,
     "metadata": {},
     "output_type": "execute_result"
    }
   ],
   "source": [
    "linspace.size"
   ]
  },
  {
   "cell_type": "code",
   "execution_count": 59,
   "id": "f1100483",
   "metadata": {},
   "outputs": [],
   "source": [
    "empty=np.empty((1,5))"
   ]
  },
  {
   "cell_type": "code",
   "execution_count": 60,
   "id": "8849fec9",
   "metadata": {},
   "outputs": [
    {
     "data": {
      "text/plain": [
       "array([[0.00000000e+000, 1.09934885e-311, 1.09934885e-311,\n",
       "        1.09934885e-311, 0.00000000e+000]])"
      ]
     },
     "execution_count": 60,
     "metadata": {},
     "output_type": "execute_result"
    }
   ],
   "source": [
    "empty"
   ]
  },
  {
   "cell_type": "code",
   "execution_count": null,
   "id": "97327011",
   "metadata": {},
   "outputs": [],
   "source": [
    "for i in range(5):\n",
    "    empty[:,i]"
   ]
  }
 ],
 "metadata": {
  "kernelspec": {
   "display_name": "Python 3 (ipykernel)",
   "language": "python",
   "name": "python3"
  },
  "language_info": {
   "codemirror_mode": {
    "name": "ipython",
    "version": 3
   },
   "file_extension": ".py",
   "mimetype": "text/x-python",
   "name": "python",
   "nbconvert_exporter": "python",
   "pygments_lexer": "ipython3",
   "version": "3.11.5"
  }
 },
 "nbformat": 4,
 "nbformat_minor": 5
}
